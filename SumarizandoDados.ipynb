{
  "nbformat": 4,
  "nbformat_minor": 0,
  "metadata": {
    "colab": {
      "provenance": [],
      "include_colab_link": true
    },
    "kernelspec": {
      "name": "python3",
      "display_name": "Python 3"
    }
  },
  "cells": [
    {
      "cell_type": "markdown",
      "metadata": {
        "id": "view-in-github",
        "colab_type": "text"
      },
      "source": [
        "<a href=\"https://colab.research.google.com/github/mariananlemos/Limpeza_Dados/blob/main/SumarizandoDados.ipynb\" target=\"_parent\"><img src=\"https://colab.research.google.com/assets/colab-badge.svg\" alt=\"Open In Colab\"/></a>"
      ]
    },
    {
      "cell_type": "code",
      "metadata": {
        "id": "p8bC0kyuoUJ1"
      },
      "source": [
        "import pandas as pd\n",
        "import numpy as np"
      ],
      "execution_count": null,
      "outputs": []
    },
    {
      "cell_type": "code",
      "metadata": {
        "id": "y6LUIfDSoj_k"
      },
      "source": [
        "datas = pd.date_range('20200101', periods=6)\n",
        "\n",
        "df = pd.DataFrame(np.random.randn(6, 4), index=datas, columns=['Var_A', 'Var_B', 'Var_C', 'Var_D'])"
      ],
      "execution_count": null,
      "outputs": []
    },
    {
      "cell_type": "code",
      "metadata": {
        "id": "12SQVMSOpbwZ"
      },
      "source": [
        "df2 = pd.DataFrame({'A': 1.,\n",
        "   ...:                     'B': pd.Timestamp('20130102'),\n",
        "   ...:                     'C': pd.Series(1, index=list(range(4)), dtype='float32'),\n",
        "   ...:                     'D': np.array([3] * 4, dtype='int32'),\n",
        "   ...:                     'E': pd.Categorical([\"test\", \"train\", \"test\", \"train\"]),\n",
        "   ...:                     'F': 'Python'})"
      ],
      "execution_count": null,
      "outputs": []
    },
    {
      "cell_type": "code",
      "metadata": {
        "id": "OuarVQ9epRry",
        "outputId": "be384679-38f6-4afe-f52d-b5221a8ff52d",
        "colab": {
          "base_uri": "https://localhost:8080/",
          "height": 228
        }
      },
      "source": [
        "df"
      ],
      "execution_count": null,
      "outputs": [
        {
          "output_type": "execute_result",
          "data": {
            "text/html": [
              "<div>\n",
              "<style scoped>\n",
              "    .dataframe tbody tr th:only-of-type {\n",
              "        vertical-align: middle;\n",
              "    }\n",
              "\n",
              "    .dataframe tbody tr th {\n",
              "        vertical-align: top;\n",
              "    }\n",
              "\n",
              "    .dataframe thead th {\n",
              "        text-align: right;\n",
              "    }\n",
              "</style>\n",
              "<table border=\"1\" class=\"dataframe\">\n",
              "  <thead>\n",
              "    <tr style=\"text-align: right;\">\n",
              "      <th></th>\n",
              "      <th>Var_A</th>\n",
              "      <th>Var_B</th>\n",
              "      <th>Var_C</th>\n",
              "      <th>Var_D</th>\n",
              "    </tr>\n",
              "  </thead>\n",
              "  <tbody>\n",
              "    <tr>\n",
              "      <th>2020-01-01</th>\n",
              "      <td>0.108054</td>\n",
              "      <td>0.451149</td>\n",
              "      <td>-0.476590</td>\n",
              "      <td>1.646939</td>\n",
              "    </tr>\n",
              "    <tr>\n",
              "      <th>2020-01-02</th>\n",
              "      <td>2.033522</td>\n",
              "      <td>1.130295</td>\n",
              "      <td>0.393841</td>\n",
              "      <td>-0.872713</td>\n",
              "    </tr>\n",
              "    <tr>\n",
              "      <th>2020-01-03</th>\n",
              "      <td>-1.021104</td>\n",
              "      <td>0.221334</td>\n",
              "      <td>1.535066</td>\n",
              "      <td>-0.902563</td>\n",
              "    </tr>\n",
              "    <tr>\n",
              "      <th>2020-01-04</th>\n",
              "      <td>0.927034</td>\n",
              "      <td>-0.568369</td>\n",
              "      <td>0.247304</td>\n",
              "      <td>0.709899</td>\n",
              "    </tr>\n",
              "    <tr>\n",
              "      <th>2020-01-05</th>\n",
              "      <td>-1.868256</td>\n",
              "      <td>1.482526</td>\n",
              "      <td>-0.515925</td>\n",
              "      <td>-1.156223</td>\n",
              "    </tr>\n",
              "    <tr>\n",
              "      <th>2020-01-06</th>\n",
              "      <td>-0.241638</td>\n",
              "      <td>-1.681972</td>\n",
              "      <td>-0.133969</td>\n",
              "      <td>1.122180</td>\n",
              "    </tr>\n",
              "  </tbody>\n",
              "</table>\n",
              "</div>"
            ],
            "text/plain": [
              "               Var_A     Var_B     Var_C     Var_D\n",
              "2020-01-01  0.108054  0.451149 -0.476590  1.646939\n",
              "2020-01-02  2.033522  1.130295  0.393841 -0.872713\n",
              "2020-01-03 -1.021104  0.221334  1.535066 -0.902563\n",
              "2020-01-04  0.927034 -0.568369  0.247304  0.709899\n",
              "2020-01-05 -1.868256  1.482526 -0.515925 -1.156223\n",
              "2020-01-06 -0.241638 -1.681972 -0.133969  1.122180"
            ]
          },
          "metadata": {
            "tags": []
          },
          "execution_count": 4
        }
      ]
    },
    {
      "cell_type": "code",
      "metadata": {
        "id": "hGbSJck_pie7",
        "outputId": "f12905eb-d18a-4ecf-9a26-517d79d30a5a",
        "colab": {
          "base_uri": "https://localhost:8080/",
          "height": 35
        }
      },
      "source": [
        "df.shape"
      ],
      "execution_count": null,
      "outputs": [
        {
          "output_type": "execute_result",
          "data": {
            "text/plain": [
              "(6, 4)"
            ]
          },
          "metadata": {
            "tags": []
          },
          "execution_count": 6
        }
      ]
    },
    {
      "cell_type": "code",
      "metadata": {
        "id": "cTxzs2JvpTkF",
        "outputId": "a566da48-daf2-469a-b779-e9845a4aa882",
        "colab": {
          "base_uri": "https://localhost:8080/",
          "height": 108
        }
      },
      "source": [
        "df.dtypes"
      ],
      "execution_count": null,
      "outputs": [
        {
          "output_type": "execute_result",
          "data": {
            "text/plain": [
              "Var_A    float64\n",
              "Var_B    float64\n",
              "Var_C    float64\n",
              "Var_D    float64\n",
              "dtype: object"
            ]
          },
          "metadata": {
            "tags": []
          },
          "execution_count": 7
        }
      ]
    },
    {
      "cell_type": "code",
      "metadata": {
        "id": "vJIMWdFbrvQd",
        "outputId": "38ed5d5e-c1d3-4ef1-a5fb-db95745b95df",
        "colab": {
          "base_uri": "https://localhost:8080/",
          "height": 168
        }
      },
      "source": [
        "df2"
      ],
      "execution_count": null,
      "outputs": [
        {
          "output_type": "execute_result",
          "data": {
            "text/html": [
              "<div>\n",
              "<style scoped>\n",
              "    .dataframe tbody tr th:only-of-type {\n",
              "        vertical-align: middle;\n",
              "    }\n",
              "\n",
              "    .dataframe tbody tr th {\n",
              "        vertical-align: top;\n",
              "    }\n",
              "\n",
              "    .dataframe thead th {\n",
              "        text-align: right;\n",
              "    }\n",
              "</style>\n",
              "<table border=\"1\" class=\"dataframe\">\n",
              "  <thead>\n",
              "    <tr style=\"text-align: right;\">\n",
              "      <th></th>\n",
              "      <th>A</th>\n",
              "      <th>B</th>\n",
              "      <th>C</th>\n",
              "      <th>D</th>\n",
              "      <th>E</th>\n",
              "      <th>F</th>\n",
              "    </tr>\n",
              "  </thead>\n",
              "  <tbody>\n",
              "    <tr>\n",
              "      <th>0</th>\n",
              "      <td>1.0</td>\n",
              "      <td>2013-01-02</td>\n",
              "      <td>1.0</td>\n",
              "      <td>3</td>\n",
              "      <td>test</td>\n",
              "      <td>Python</td>\n",
              "    </tr>\n",
              "    <tr>\n",
              "      <th>1</th>\n",
              "      <td>1.0</td>\n",
              "      <td>2013-01-02</td>\n",
              "      <td>1.0</td>\n",
              "      <td>3</td>\n",
              "      <td>train</td>\n",
              "      <td>Python</td>\n",
              "    </tr>\n",
              "    <tr>\n",
              "      <th>2</th>\n",
              "      <td>1.0</td>\n",
              "      <td>2013-01-02</td>\n",
              "      <td>1.0</td>\n",
              "      <td>3</td>\n",
              "      <td>test</td>\n",
              "      <td>Python</td>\n",
              "    </tr>\n",
              "    <tr>\n",
              "      <th>3</th>\n",
              "      <td>1.0</td>\n",
              "      <td>2013-01-02</td>\n",
              "      <td>1.0</td>\n",
              "      <td>3</td>\n",
              "      <td>train</td>\n",
              "      <td>Python</td>\n",
              "    </tr>\n",
              "  </tbody>\n",
              "</table>\n",
              "</div>"
            ],
            "text/plain": [
              "     A          B    C  D      E       F\n",
              "0  1.0 2013-01-02  1.0  3   test  Python\n",
              "1  1.0 2013-01-02  1.0  3  train  Python\n",
              "2  1.0 2013-01-02  1.0  3   test  Python\n",
              "3  1.0 2013-01-02  1.0  3  train  Python"
            ]
          },
          "metadata": {
            "tags": []
          },
          "execution_count": 9
        }
      ]
    },
    {
      "cell_type": "code",
      "metadata": {
        "id": "258hFJWipgZd",
        "outputId": "8d857160-5afe-4ee4-8115-b7849910da03",
        "colab": {
          "base_uri": "https://localhost:8080/",
          "height": 145
        }
      },
      "source": [
        "df2.dtypes"
      ],
      "execution_count": null,
      "outputs": [
        {
          "output_type": "execute_result",
          "data": {
            "text/plain": [
              "A           float64\n",
              "B    datetime64[ns]\n",
              "C           float32\n",
              "D             int32\n",
              "E          category\n",
              "F            object\n",
              "dtype: object"
            ]
          },
          "metadata": {
            "tags": []
          },
          "execution_count": 8
        }
      ]
    },
    {
      "cell_type": "code",
      "metadata": {
        "id": "E3QP8AjGrseO",
        "outputId": "f49f17eb-a50b-4f3d-a4d2-c649f57637f2",
        "colab": {
          "base_uri": "https://localhost:8080/",
          "height": 288
        }
      },
      "source": [
        "df2.describe()"
      ],
      "execution_count": null,
      "outputs": [
        {
          "output_type": "execute_result",
          "data": {
            "text/html": [
              "<div>\n",
              "<style scoped>\n",
              "    .dataframe tbody tr th:only-of-type {\n",
              "        vertical-align: middle;\n",
              "    }\n",
              "\n",
              "    .dataframe tbody tr th {\n",
              "        vertical-align: top;\n",
              "    }\n",
              "\n",
              "    .dataframe thead th {\n",
              "        text-align: right;\n",
              "    }\n",
              "</style>\n",
              "<table border=\"1\" class=\"dataframe\">\n",
              "  <thead>\n",
              "    <tr style=\"text-align: right;\">\n",
              "      <th></th>\n",
              "      <th>A</th>\n",
              "      <th>C</th>\n",
              "      <th>D</th>\n",
              "    </tr>\n",
              "  </thead>\n",
              "  <tbody>\n",
              "    <tr>\n",
              "      <th>count</th>\n",
              "      <td>4.0</td>\n",
              "      <td>4.0</td>\n",
              "      <td>4.0</td>\n",
              "    </tr>\n",
              "    <tr>\n",
              "      <th>mean</th>\n",
              "      <td>1.0</td>\n",
              "      <td>1.0</td>\n",
              "      <td>3.0</td>\n",
              "    </tr>\n",
              "    <tr>\n",
              "      <th>std</th>\n",
              "      <td>0.0</td>\n",
              "      <td>0.0</td>\n",
              "      <td>0.0</td>\n",
              "    </tr>\n",
              "    <tr>\n",
              "      <th>min</th>\n",
              "      <td>1.0</td>\n",
              "      <td>1.0</td>\n",
              "      <td>3.0</td>\n",
              "    </tr>\n",
              "    <tr>\n",
              "      <th>25%</th>\n",
              "      <td>1.0</td>\n",
              "      <td>1.0</td>\n",
              "      <td>3.0</td>\n",
              "    </tr>\n",
              "    <tr>\n",
              "      <th>50%</th>\n",
              "      <td>1.0</td>\n",
              "      <td>1.0</td>\n",
              "      <td>3.0</td>\n",
              "    </tr>\n",
              "    <tr>\n",
              "      <th>75%</th>\n",
              "      <td>1.0</td>\n",
              "      <td>1.0</td>\n",
              "      <td>3.0</td>\n",
              "    </tr>\n",
              "    <tr>\n",
              "      <th>max</th>\n",
              "      <td>1.0</td>\n",
              "      <td>1.0</td>\n",
              "      <td>3.0</td>\n",
              "    </tr>\n",
              "  </tbody>\n",
              "</table>\n",
              "</div>"
            ],
            "text/plain": [
              "         A    C    D\n",
              "count  4.0  4.0  4.0\n",
              "mean   1.0  1.0  3.0\n",
              "std    0.0  0.0  0.0\n",
              "min    1.0  1.0  3.0\n",
              "25%    1.0  1.0  3.0\n",
              "50%    1.0  1.0  3.0\n",
              "75%    1.0  1.0  3.0\n",
              "max    1.0  1.0  3.0"
            ]
          },
          "metadata": {
            "tags": []
          },
          "execution_count": 11
        }
      ]
    },
    {
      "cell_type": "code",
      "metadata": {
        "id": "NaDPBV40rsng"
      },
      "source": [],
      "execution_count": null,
      "outputs": []
    },
    {
      "cell_type": "code",
      "metadata": {
        "id": "m7G7YBXlrsbx",
        "outputId": "7ced8ee0-b9b2-4365-f6a4-0b05f949ffbd",
        "colab": {
          "base_uri": "https://localhost:8080/",
          "height": 228
        }
      },
      "source": [
        "df"
      ],
      "execution_count": null,
      "outputs": [
        {
          "output_type": "execute_result",
          "data": {
            "text/html": [
              "<div>\n",
              "<style scoped>\n",
              "    .dataframe tbody tr th:only-of-type {\n",
              "        vertical-align: middle;\n",
              "    }\n",
              "\n",
              "    .dataframe tbody tr th {\n",
              "        vertical-align: top;\n",
              "    }\n",
              "\n",
              "    .dataframe thead th {\n",
              "        text-align: right;\n",
              "    }\n",
              "</style>\n",
              "<table border=\"1\" class=\"dataframe\">\n",
              "  <thead>\n",
              "    <tr style=\"text-align: right;\">\n",
              "      <th></th>\n",
              "      <th>Var_A</th>\n",
              "      <th>Var_B</th>\n",
              "      <th>Var_C</th>\n",
              "      <th>Var_D</th>\n",
              "    </tr>\n",
              "  </thead>\n",
              "  <tbody>\n",
              "    <tr>\n",
              "      <th>2020-01-01</th>\n",
              "      <td>0.108054</td>\n",
              "      <td>0.451149</td>\n",
              "      <td>-0.476590</td>\n",
              "      <td>1.646939</td>\n",
              "    </tr>\n",
              "    <tr>\n",
              "      <th>2020-01-02</th>\n",
              "      <td>2.033522</td>\n",
              "      <td>1.130295</td>\n",
              "      <td>0.393841</td>\n",
              "      <td>-0.872713</td>\n",
              "    </tr>\n",
              "    <tr>\n",
              "      <th>2020-01-03</th>\n",
              "      <td>-1.021104</td>\n",
              "      <td>0.221334</td>\n",
              "      <td>1.535066</td>\n",
              "      <td>-0.902563</td>\n",
              "    </tr>\n",
              "    <tr>\n",
              "      <th>2020-01-04</th>\n",
              "      <td>0.927034</td>\n",
              "      <td>-0.568369</td>\n",
              "      <td>0.247304</td>\n",
              "      <td>0.709899</td>\n",
              "    </tr>\n",
              "    <tr>\n",
              "      <th>2020-01-05</th>\n",
              "      <td>-1.868256</td>\n",
              "      <td>1.482526</td>\n",
              "      <td>-0.515925</td>\n",
              "      <td>-1.156223</td>\n",
              "    </tr>\n",
              "    <tr>\n",
              "      <th>2020-01-06</th>\n",
              "      <td>-0.241638</td>\n",
              "      <td>-1.681972</td>\n",
              "      <td>-0.133969</td>\n",
              "      <td>1.122180</td>\n",
              "    </tr>\n",
              "  </tbody>\n",
              "</table>\n",
              "</div>"
            ],
            "text/plain": [
              "               Var_A     Var_B     Var_C     Var_D\n",
              "2020-01-01  0.108054  0.451149 -0.476590  1.646939\n",
              "2020-01-02  2.033522  1.130295  0.393841 -0.872713\n",
              "2020-01-03 -1.021104  0.221334  1.535066 -0.902563\n",
              "2020-01-04  0.927034 -0.568369  0.247304  0.709899\n",
              "2020-01-05 -1.868256  1.482526 -0.515925 -1.156223\n",
              "2020-01-06 -0.241638 -1.681972 -0.133969  1.122180"
            ]
          },
          "metadata": {
            "tags": []
          },
          "execution_count": 13
        }
      ]
    },
    {
      "cell_type": "code",
      "metadata": {
        "id": "Cp3fCxSkrsXK"
      },
      "source": [],
      "execution_count": null,
      "outputs": []
    },
    {
      "cell_type": "code",
      "metadata": {
        "id": "b1ZvV8cZpz-j"
      },
      "source": [
        "df1 = df.reindex(index=datas[0:4], columns=list(df.columns) + ['Var_E'])\n"
      ],
      "execution_count": null,
      "outputs": []
    },
    {
      "cell_type": "code",
      "metadata": {
        "id": "iR9B_QditfEW",
        "outputId": "c5bd4d78-73d9-42f3-a1b5-71af9f9727c8",
        "colab": {
          "base_uri": "https://localhost:8080/",
          "height": 168
        }
      },
      "source": [
        "df1"
      ],
      "execution_count": null,
      "outputs": [
        {
          "output_type": "execute_result",
          "data": {
            "text/html": [
              "<div>\n",
              "<style scoped>\n",
              "    .dataframe tbody tr th:only-of-type {\n",
              "        vertical-align: middle;\n",
              "    }\n",
              "\n",
              "    .dataframe tbody tr th {\n",
              "        vertical-align: top;\n",
              "    }\n",
              "\n",
              "    .dataframe thead th {\n",
              "        text-align: right;\n",
              "    }\n",
              "</style>\n",
              "<table border=\"1\" class=\"dataframe\">\n",
              "  <thead>\n",
              "    <tr style=\"text-align: right;\">\n",
              "      <th></th>\n",
              "      <th>Var_A</th>\n",
              "      <th>Var_B</th>\n",
              "      <th>Var_C</th>\n",
              "      <th>Var_D</th>\n",
              "      <th>Var_E</th>\n",
              "    </tr>\n",
              "  </thead>\n",
              "  <tbody>\n",
              "    <tr>\n",
              "      <th>2020-01-01</th>\n",
              "      <td>0.108054</td>\n",
              "      <td>0.451149</td>\n",
              "      <td>-0.476590</td>\n",
              "      <td>1.646939</td>\n",
              "      <td>NaN</td>\n",
              "    </tr>\n",
              "    <tr>\n",
              "      <th>2020-01-02</th>\n",
              "      <td>2.033522</td>\n",
              "      <td>1.130295</td>\n",
              "      <td>0.393841</td>\n",
              "      <td>-0.872713</td>\n",
              "      <td>NaN</td>\n",
              "    </tr>\n",
              "    <tr>\n",
              "      <th>2020-01-03</th>\n",
              "      <td>-1.021104</td>\n",
              "      <td>0.221334</td>\n",
              "      <td>1.535066</td>\n",
              "      <td>-0.902563</td>\n",
              "      <td>NaN</td>\n",
              "    </tr>\n",
              "    <tr>\n",
              "      <th>2020-01-04</th>\n",
              "      <td>0.927034</td>\n",
              "      <td>-0.568369</td>\n",
              "      <td>0.247304</td>\n",
              "      <td>0.709899</td>\n",
              "      <td>NaN</td>\n",
              "    </tr>\n",
              "  </tbody>\n",
              "</table>\n",
              "</div>"
            ],
            "text/plain": [
              "               Var_A     Var_B     Var_C     Var_D  Var_E\n",
              "2020-01-01  0.108054  0.451149 -0.476590  1.646939    NaN\n",
              "2020-01-02  2.033522  1.130295  0.393841 -0.872713    NaN\n",
              "2020-01-03 -1.021104  0.221334  1.535066 -0.902563    NaN\n",
              "2020-01-04  0.927034 -0.568369  0.247304  0.709899    NaN"
            ]
          },
          "metadata": {
            "tags": []
          },
          "execution_count": 15
        }
      ]
    },
    {
      "cell_type": "code",
      "metadata": {
        "id": "y8PvZPOvp1fl"
      },
      "source": [
        "df1.loc[datas[0]:datas[1], 'Var_E'] = 77"
      ],
      "execution_count": null,
      "outputs": []
    },
    {
      "cell_type": "code",
      "metadata": {
        "id": "083GF3Sqp4sP",
        "outputId": "5b326274-296b-4f05-a024-13727791e2bb",
        "colab": {
          "base_uri": "https://localhost:8080/",
          "height": 168
        }
      },
      "source": [
        "df1"
      ],
      "execution_count": null,
      "outputs": [
        {
          "output_type": "execute_result",
          "data": {
            "text/html": [
              "<div>\n",
              "<style scoped>\n",
              "    .dataframe tbody tr th:only-of-type {\n",
              "        vertical-align: middle;\n",
              "    }\n",
              "\n",
              "    .dataframe tbody tr th {\n",
              "        vertical-align: top;\n",
              "    }\n",
              "\n",
              "    .dataframe thead th {\n",
              "        text-align: right;\n",
              "    }\n",
              "</style>\n",
              "<table border=\"1\" class=\"dataframe\">\n",
              "  <thead>\n",
              "    <tr style=\"text-align: right;\">\n",
              "      <th></th>\n",
              "      <th>Var_A</th>\n",
              "      <th>Var_B</th>\n",
              "      <th>Var_C</th>\n",
              "      <th>Var_D</th>\n",
              "      <th>Var_E</th>\n",
              "    </tr>\n",
              "  </thead>\n",
              "  <tbody>\n",
              "    <tr>\n",
              "      <th>2020-01-01</th>\n",
              "      <td>0.108054</td>\n",
              "      <td>0.451149</td>\n",
              "      <td>-0.476590</td>\n",
              "      <td>1.646939</td>\n",
              "      <td>77.0</td>\n",
              "    </tr>\n",
              "    <tr>\n",
              "      <th>2020-01-02</th>\n",
              "      <td>2.033522</td>\n",
              "      <td>1.130295</td>\n",
              "      <td>0.393841</td>\n",
              "      <td>-0.872713</td>\n",
              "      <td>77.0</td>\n",
              "    </tr>\n",
              "    <tr>\n",
              "      <th>2020-01-03</th>\n",
              "      <td>-1.021104</td>\n",
              "      <td>0.221334</td>\n",
              "      <td>1.535066</td>\n",
              "      <td>-0.902563</td>\n",
              "      <td>NaN</td>\n",
              "    </tr>\n",
              "    <tr>\n",
              "      <th>2020-01-04</th>\n",
              "      <td>0.927034</td>\n",
              "      <td>-0.568369</td>\n",
              "      <td>0.247304</td>\n",
              "      <td>0.709899</td>\n",
              "      <td>NaN</td>\n",
              "    </tr>\n",
              "  </tbody>\n",
              "</table>\n",
              "</div>"
            ],
            "text/plain": [
              "               Var_A     Var_B     Var_C     Var_D  Var_E\n",
              "2020-01-01  0.108054  0.451149 -0.476590  1.646939   77.0\n",
              "2020-01-02  2.033522  1.130295  0.393841 -0.872713   77.0\n",
              "2020-01-03 -1.021104  0.221334  1.535066 -0.902563    NaN\n",
              "2020-01-04  0.927034 -0.568369  0.247304  0.709899    NaN"
            ]
          },
          "metadata": {
            "tags": []
          },
          "execution_count": 17
        }
      ]
    },
    {
      "cell_type": "code",
      "metadata": {
        "id": "MFDaFewLqNL0",
        "outputId": "d7eb9b9a-846c-4c92-9ebb-482b675e2d16",
        "colab": {
          "base_uri": "https://localhost:8080/",
          "height": 126
        }
      },
      "source": [
        "df1.dtypes"
      ],
      "execution_count": null,
      "outputs": [
        {
          "output_type": "execute_result",
          "data": {
            "text/plain": [
              "Var_A    float64\n",
              "Var_B    float64\n",
              "Var_C    float64\n",
              "Var_D    float64\n",
              "Var_E    float64\n",
              "dtype: object"
            ]
          },
          "metadata": {
            "tags": []
          },
          "execution_count": 18
        }
      ]
    },
    {
      "cell_type": "code",
      "metadata": {
        "id": "ngAWRjCqqXTM"
      },
      "source": [
        "df1.describe()"
      ],
      "execution_count": null,
      "outputs": []
    },
    {
      "cell_type": "code",
      "metadata": {
        "id": "F4aHRk1GuGF4"
      },
      "source": [
        "# dados missing "
      ],
      "execution_count": null,
      "outputs": []
    },
    {
      "cell_type": "code",
      "metadata": {
        "id": "otRaY_64v3oY",
        "outputId": "b04e01e0-2116-4b6d-a243-cc39b3100f15",
        "colab": {
          "base_uri": "https://localhost:8080/",
          "height": 126
        }
      },
      "source": [
        "df1.isna().sum()"
      ],
      "execution_count": null,
      "outputs": [
        {
          "output_type": "execute_result",
          "data": {
            "text/plain": [
              "Var_A    0\n",
              "Var_B    0\n",
              "Var_C    0\n",
              "Var_D    0\n",
              "Var_E    2\n",
              "dtype: int64"
            ]
          },
          "metadata": {
            "tags": []
          },
          "execution_count": 23
        }
      ]
    },
    {
      "cell_type": "code",
      "metadata": {
        "id": "v7TqBDxDxqgv",
        "outputId": "15ef66f3-be92-41b4-c5e8-4d860dc5e4bd",
        "colab": {
          "base_uri": "https://localhost:8080/",
          "height": 168
        }
      },
      "source": [
        "df1"
      ],
      "execution_count": null,
      "outputs": [
        {
          "output_type": "execute_result",
          "data": {
            "text/html": [
              "<div>\n",
              "<style scoped>\n",
              "    .dataframe tbody tr th:only-of-type {\n",
              "        vertical-align: middle;\n",
              "    }\n",
              "\n",
              "    .dataframe tbody tr th {\n",
              "        vertical-align: top;\n",
              "    }\n",
              "\n",
              "    .dataframe thead th {\n",
              "        text-align: right;\n",
              "    }\n",
              "</style>\n",
              "<table border=\"1\" class=\"dataframe\">\n",
              "  <thead>\n",
              "    <tr style=\"text-align: right;\">\n",
              "      <th></th>\n",
              "      <th>Var_A</th>\n",
              "      <th>Var_B</th>\n",
              "      <th>Var_C</th>\n",
              "      <th>Var_D</th>\n",
              "      <th>Var_E</th>\n",
              "    </tr>\n",
              "  </thead>\n",
              "  <tbody>\n",
              "    <tr>\n",
              "      <th>2020-01-01</th>\n",
              "      <td>0.108054</td>\n",
              "      <td>0.451149</td>\n",
              "      <td>-0.476590</td>\n",
              "      <td>1.646939</td>\n",
              "      <td>77.0</td>\n",
              "    </tr>\n",
              "    <tr>\n",
              "      <th>2020-01-02</th>\n",
              "      <td>2.033522</td>\n",
              "      <td>1.130295</td>\n",
              "      <td>0.393841</td>\n",
              "      <td>-0.872713</td>\n",
              "      <td>77.0</td>\n",
              "    </tr>\n",
              "    <tr>\n",
              "      <th>2020-01-03</th>\n",
              "      <td>-1.021104</td>\n",
              "      <td>0.221334</td>\n",
              "      <td>1.535066</td>\n",
              "      <td>-0.902563</td>\n",
              "      <td>NaN</td>\n",
              "    </tr>\n",
              "    <tr>\n",
              "      <th>2020-01-04</th>\n",
              "      <td>0.927034</td>\n",
              "      <td>-0.568369</td>\n",
              "      <td>0.247304</td>\n",
              "      <td>0.709899</td>\n",
              "      <td>NaN</td>\n",
              "    </tr>\n",
              "  </tbody>\n",
              "</table>\n",
              "</div>"
            ],
            "text/plain": [
              "               Var_A     Var_B     Var_C     Var_D  Var_E\n",
              "2020-01-01  0.108054  0.451149 -0.476590  1.646939   77.0\n",
              "2020-01-02  2.033522  1.130295  0.393841 -0.872713   77.0\n",
              "2020-01-03 -1.021104  0.221334  1.535066 -0.902563    NaN\n",
              "2020-01-04  0.927034 -0.568369  0.247304  0.709899    NaN"
            ]
          },
          "metadata": {
            "tags": []
          },
          "execution_count": 25
        }
      ]
    },
    {
      "cell_type": "code",
      "metadata": {
        "id": "BGYsdQtKxCrj",
        "outputId": "28e70f0a-9fcf-4758-c118-cf21d3e4b349",
        "colab": {
          "base_uri": "https://localhost:8080/",
          "height": 108
        }
      },
      "source": [
        "df1.dropna(axis=0, how='any')"
      ],
      "execution_count": null,
      "outputs": [
        {
          "output_type": "execute_result",
          "data": {
            "text/html": [
              "<div>\n",
              "<style scoped>\n",
              "    .dataframe tbody tr th:only-of-type {\n",
              "        vertical-align: middle;\n",
              "    }\n",
              "\n",
              "    .dataframe tbody tr th {\n",
              "        vertical-align: top;\n",
              "    }\n",
              "\n",
              "    .dataframe thead th {\n",
              "        text-align: right;\n",
              "    }\n",
              "</style>\n",
              "<table border=\"1\" class=\"dataframe\">\n",
              "  <thead>\n",
              "    <tr style=\"text-align: right;\">\n",
              "      <th></th>\n",
              "      <th>Var_A</th>\n",
              "      <th>Var_B</th>\n",
              "      <th>Var_C</th>\n",
              "      <th>Var_D</th>\n",
              "      <th>Var_E</th>\n",
              "    </tr>\n",
              "  </thead>\n",
              "  <tbody>\n",
              "    <tr>\n",
              "      <th>2020-01-01</th>\n",
              "      <td>0.108054</td>\n",
              "      <td>0.451149</td>\n",
              "      <td>-0.476590</td>\n",
              "      <td>1.646939</td>\n",
              "      <td>77.0</td>\n",
              "    </tr>\n",
              "    <tr>\n",
              "      <th>2020-01-02</th>\n",
              "      <td>2.033522</td>\n",
              "      <td>1.130295</td>\n",
              "      <td>0.393841</td>\n",
              "      <td>-0.872713</td>\n",
              "      <td>77.0</td>\n",
              "    </tr>\n",
              "  </tbody>\n",
              "</table>\n",
              "</div>"
            ],
            "text/plain": [
              "               Var_A     Var_B     Var_C     Var_D  Var_E\n",
              "2020-01-01  0.108054  0.451149 -0.476590  1.646939   77.0\n",
              "2020-01-02  2.033522  1.130295  0.393841 -0.872713   77.0"
            ]
          },
          "metadata": {
            "tags": []
          },
          "execution_count": 24
        }
      ]
    },
    {
      "cell_type": "code",
      "metadata": {
        "id": "Qc9XeJyExoTG",
        "outputId": "75e85ff9-32ea-49bb-dcfd-6e0a63350874",
        "colab": {
          "base_uri": "https://localhost:8080/",
          "height": 168
        }
      },
      "source": [
        "df1.dropna(axis=1, how='any')"
      ],
      "execution_count": null,
      "outputs": [
        {
          "output_type": "execute_result",
          "data": {
            "text/html": [
              "<div>\n",
              "<style scoped>\n",
              "    .dataframe tbody tr th:only-of-type {\n",
              "        vertical-align: middle;\n",
              "    }\n",
              "\n",
              "    .dataframe tbody tr th {\n",
              "        vertical-align: top;\n",
              "    }\n",
              "\n",
              "    .dataframe thead th {\n",
              "        text-align: right;\n",
              "    }\n",
              "</style>\n",
              "<table border=\"1\" class=\"dataframe\">\n",
              "  <thead>\n",
              "    <tr style=\"text-align: right;\">\n",
              "      <th></th>\n",
              "      <th>Var_A</th>\n",
              "      <th>Var_B</th>\n",
              "      <th>Var_C</th>\n",
              "      <th>Var_D</th>\n",
              "    </tr>\n",
              "  </thead>\n",
              "  <tbody>\n",
              "    <tr>\n",
              "      <th>2020-01-01</th>\n",
              "      <td>0.108054</td>\n",
              "      <td>0.451149</td>\n",
              "      <td>-0.476590</td>\n",
              "      <td>1.646939</td>\n",
              "    </tr>\n",
              "    <tr>\n",
              "      <th>2020-01-02</th>\n",
              "      <td>2.033522</td>\n",
              "      <td>1.130295</td>\n",
              "      <td>0.393841</td>\n",
              "      <td>-0.872713</td>\n",
              "    </tr>\n",
              "    <tr>\n",
              "      <th>2020-01-03</th>\n",
              "      <td>-1.021104</td>\n",
              "      <td>0.221334</td>\n",
              "      <td>1.535066</td>\n",
              "      <td>-0.902563</td>\n",
              "    </tr>\n",
              "    <tr>\n",
              "      <th>2020-01-04</th>\n",
              "      <td>0.927034</td>\n",
              "      <td>-0.568369</td>\n",
              "      <td>0.247304</td>\n",
              "      <td>0.709899</td>\n",
              "    </tr>\n",
              "  </tbody>\n",
              "</table>\n",
              "</div>"
            ],
            "text/plain": [
              "               Var_A     Var_B     Var_C     Var_D\n",
              "2020-01-01  0.108054  0.451149 -0.476590  1.646939\n",
              "2020-01-02  2.033522  1.130295  0.393841 -0.872713\n",
              "2020-01-03 -1.021104  0.221334  1.535066 -0.902563\n",
              "2020-01-04  0.927034 -0.568369  0.247304  0.709899"
            ]
          },
          "metadata": {
            "tags": []
          },
          "execution_count": 26
        }
      ]
    },
    {
      "cell_type": "code",
      "metadata": {
        "id": "mFRqh4Uzxxgl"
      },
      "source": [
        "import pandas as pd\n",
        "import numpy as np\n",
        "\n",
        "datas = pd.date_range('20190101', periods = 60, freq=\"D\")\n",
        "\n",
        "df = pd.DataFrame(np.random.randn(60,5), index = datas, columns = list(\"ABCDE\")) \n",
        "\n",
        "df.head(3)\n",
        "\n",
        "df['F'] = df.A[ df.A > 0 ]\n",
        "\n",
        "df.head(3)\n",
        "\n",
        "df.shape\n",
        "\n",
        "df2 = df.copy()\n",
        "\n",
        "df2.dropna().shape\n",
        "\n",
        "df3.fillna(np.mean(df3.A))\n",
        "\n",
        "df4 = df.copy()\n",
        "\n",
        "df4.fillna(value = 77777)"
      ],
      "execution_count": null,
      "outputs": []
    },
    {
      "cell_type": "code",
      "source": [
        "import pandas as pd\n",
        "import numpy as np\n",
        "\n",
        "df2 = pd.DataFrame({'A': 1.,\n",
        "   ...:                     'B': pd.Timestamp('20130102'),\n",
        "   ...:                     'C': pd.Series(1, index=list(range(4)), dtype='float32'),\n",
        "   ...:                     'D': np.array([3] * 4, dtype='int32'),\n",
        "   ...:                     'E': pd.Categorical([\"test\", \"train\", \"test\", \"train\"]),\n",
        "   ...:                     'F': 'Python',\n",
        "   ...:                     'G': [2,2,4,4],\n",
        "   ...:                     'H': [np.nan,2,4,np.nan]  })\n",
        "\n",
        "df2.nunique(axis=1, dropna=True)\n",
        "\n",
        "df2.drop_duplicates(subset='G', keep=False)\n",
        "\n",
        "df2.sort_values()"
      ],
      "metadata": {
        "id": "7bpsmft05rGK"
      },
      "execution_count": null,
      "outputs": []
    },
    {
      "cell_type": "code",
      "source": [
        "import numpy as np\n",
        "import pandas as pd\n",
        "\n",
        "df = pd.DataFrame({'Col1':['A','A','B', np.nan, 'D','C'], 'Col2':[2,1,9,8,7,4], 'Col3':[0,1,9,4,2,3]})"
      ],
      "metadata": {
        "id": "NIoQuxuS50Uu"
      },
      "execution_count": null,
      "outputs": []
    },
    {
      "cell_type": "code",
      "source": [
        "df.sort_values(by=['Col3'], ascending=False)"
      ],
      "metadata": {
        "id": "_Kr-qxq56F48"
      },
      "execution_count": null,
      "outputs": []
    },
    {
      "cell_type": "code",
      "source": [
        "def inserir_linha(idx, df, df_inserir):\n",
        "    dfA = df.iloc[:idx, ]\n",
        "    dfB = df.iloc[idx:, ]\n",
        "\n",
        "    df = dfA.append(df_inserir).append(dfB).reset_index(drop = True)\n",
        "\n",
        "    return df"
      ],
      "metadata": {
        "id": "d_TUCMsh6GSO"
      },
      "execution_count": null,
      "outputs": []
    },
    {
      "cell_type": "code",
      "source": [
        "di = pd.DataFrame(data=[['A',99,6]], columns=list(df.columns))"
      ],
      "metadata": {
        "id": "9YEc_19i6IFU"
      },
      "execution_count": null,
      "outputs": []
    },
    {
      "cell_type": "code",
      "source": [
        "dii = pd.DataFrame(data=[['A',99,6]])"
      ],
      "metadata": {
        "id": "O-XuzfHF6J18"
      },
      "execution_count": null,
      "outputs": []
    },
    {
      "cell_type": "code",
      "source": [
        "inserir_linha(1,df,di)"
      ],
      "metadata": {
        "id": "huOSMbBZ6MR7"
      },
      "execution_count": null,
      "outputs": []
    },
    {
      "cell_type": "code",
      "source": [
        "list(df.columns)"
      ],
      "metadata": {
        "id": "KmWSpcSS6QVs"
      },
      "execution_count": null,
      "outputs": []
    }
  ]
}